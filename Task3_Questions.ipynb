{
 "cells": [
  {
   "cell_type": "markdown",
   "id": "e8fb56a5",
   "metadata": {},
   "source": [
    "## 3.) Lastly, we would like you to list up to two (2) questions you consider would be interesting to ask of the same dataset available."
   ]
  },
  {
   "cell_type": "markdown",
   "id": "4e2f3609",
   "metadata": {},
   "source": [
    "### Question 1: \n",
    "\n",
    "After seeing that **coal** provided the majority of power generation from 2008-2018, which industries were the largest consumers of **coal** power?"
   ]
  },
  {
   "cell_type": "markdown",
   "id": "cb82e93b",
   "metadata": {},
   "source": [
    "### Question 2:"
   ]
  },
  {
   "cell_type": "markdown",
   "id": "cd928bc9",
   "metadata": {},
   "source": [
    "If we were to fit two first order linear regression models to model: \n",
    "\n",
    "    (1) the increase in renewable generation over the past decade\n",
    "    (2) the total electricity consumption over the past decade\n",
    "\n",
    "and if we were to use those models to forecast into the future, by what year would we have 50% of our generated power come from renewables?"
   ]
  }
 ],
 "metadata": {
  "kernelspec": {
   "display_name": "Python 3",
   "language": "python",
   "name": "python3"
  },
  "language_info": {
   "codemirror_mode": {
    "name": "ipython",
    "version": 3
   },
   "file_extension": ".py",
   "mimetype": "text/x-python",
   "name": "python",
   "nbconvert_exporter": "python",
   "pygments_lexer": "ipython3",
   "version": "3.8.5"
  }
 },
 "nbformat": 4,
 "nbformat_minor": 5
}
