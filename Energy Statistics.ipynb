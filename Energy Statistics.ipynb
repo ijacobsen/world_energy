{
 "cells": [
  {
   "cell_type": "markdown",
   "id": "cfe0e5ce",
   "metadata": {},
   "source": [
    "### http://data.un.org/Explorer.aspx \n",
    "\n",
    "#### Energy Statistics Database"
   ]
  },
  {
   "cell_type": "markdown",
   "id": "628e04e4",
   "metadata": {},
   "source": [
    "\n",
    "### 1.) For 2018, what was the percentage of the World’s electricity generation by the following sources - Coal, Oil, Natural Gas, Biofuels, Hydro, Nuclear, solar, and wind?\n"
   ]
  },
  {
   "cell_type": "code",
   "execution_count": 1,
   "id": "8070f5e6",
   "metadata": {},
   "outputs": [],
   "source": [
    "import pandas as pd\n",
    "import numpy as np\n",
    "from matplotlib import pyplot as plt\n",
    "\n",
    "\n",
    "# change to True to see print statements\n",
    "verbose = False"
   ]
  },
  {
   "cell_type": "markdown",
   "id": "f804ebf7",
   "metadata": {},
   "source": [
    "### Combine Data Files"
   ]
  },
  {
   "cell_type": "markdown",
   "id": "69614708",
   "metadata": {},
   "source": [
    "#### The UNdata Explorer interface was used to gather the data for this analysis. Due to the how the interface is designed, seperate queries were made to collect all of the relevant data. For ease of use I will combine all of the datasets into a single dataframe."
   ]
  },
  {
   "cell_type": "code",
   "execution_count": 2,
   "id": "45e87826",
   "metadata": {},
   "outputs": [],
   "source": [
    "# read data into a dataframe\n",
    "df = pd.read_csv('thermal.csv')\n",
    "filenames = ['hydro.csv', 'nuclear.csv', 'solar.csv', 'wind.csv']\n",
    "for sector in filenames:\n",
    "    temp = pd.read_csv(sector)\n",
    "    df = df.append(temp)"
   ]
  },
  {
   "cell_type": "markdown",
   "id": "cce6dacd",
   "metadata": {},
   "source": [
    "### Organize Data into Energy Sources"
   ]
  },
  {
   "cell_type": "markdown",
   "id": "35ddae8e",
   "metadata": {},
   "source": [
    "#### Disclaimer: I am making the assumptions that it is reasonable to aggregate groups of commodities together to form the groups:\n",
    "\n",
    "#### Coal: Hard Coal, Solid Coal Products, Brown Coal\n",
    "#### Oil: Gas Oil / Diesel Oil, Fuel Oil, Other Oil Products, Oil Shale\n",
    "#### Natural Gas: Natural Gas\n",
    "#### Biofuels: Solid Biofuels, Liquid Biofueld, Biogases\n",
    "\n",
    "##### note: if this were a task at work, I would consult with a subject matter expert or spend time researching the topic more in depth before making the decisions on aggregation"
   ]
  },
  {
   "cell_type": "code",
   "execution_count": 3,
   "id": "aef0473d",
   "metadata": {},
   "outputs": [],
   "source": [
    "# fetch list of commodities\n",
    "coms = df['Commodity - Transaction'].unique()\n",
    "\n",
    "# print out commodities and their positions in list\n",
    "if verbose:\n",
    "    for idx, com in enumerate(coms):\n",
    "        print('{} : {}'.format(idx, com))\n",
    "        \n",
    "# aggregate groups into energy sources\n",
    "coal_group = [coms[1], coms[13], coms[14]]\n",
    "oil_group = [coms[2], coms[3], coms[8], coms[17]]\n",
    "ng_group = [coms[4]]\n",
    "biofuel_group = [coms[9], coms[10], coms[12]]\n",
    "other_thermal = [coms[0]]\n",
    "hydro_group = [coms[20]]\n",
    "nuclear_group = [coms[21]]\n",
    "solar_group = [coms[22]]\n",
    "wind_group = [coms[23]]\n",
    "\n",
    "sectors = {'coal': coal_group, \n",
    "           'oil': oil_group, \n",
    "           'natural_gas': ng_group, \n",
    "           'biofuels': biofuel_group, \n",
    "           'other_thermal': other_thermal,\n",
    "           'hydro': hydro_group,\n",
    "           'nuclear': nuclear_group,\n",
    "           'solar': solar_group,\n",
    "           'wind': wind_group\n",
    "          }\n",
    "\n",
    "# display groups\n",
    "if verbose:\n",
    "    for sector in sectors:\n",
    "        print('===================================================')\n",
    "        print('                    {}                    '.format(sector))\n",
    "        for agg in sectors[sector]:\n",
    "            print(agg)\n"
   ]
  },
  {
   "cell_type": "markdown",
   "id": "c35eff80",
   "metadata": {},
   "source": [
    "### Transform Data"
   ]
  },
  {
   "cell_type": "code",
   "execution_count": 4,
   "id": "3f4a049f",
   "metadata": {},
   "outputs": [],
   "source": [
    "# verify that the data meets some criteria before using it in analysis\n",
    "def validate_data_task1(df):\n",
    "    \n",
    "    # check that the year is correct\n",
    "    if not (df['Year'].to_numpy() == 2018).all():\n",
    "        return 'error: not all data from 2018'\n",
    "    \n",
    "    # check that the units are the same\n",
    "    if len(df['Unit'].unique()) > 1:\n",
    "        return 'error: cannot add dissimilar units'\n",
    "    \n",
    "    # check that each quantity is not negative\n",
    "    if df['Quantity'].min() < 0:\n",
    "        return 'error: negative quantity in data'\n",
    "    \n",
    "    return 'data good'"
   ]
  },
  {
   "cell_type": "code",
   "execution_count": 5,
   "id": "f874118a",
   "metadata": {},
   "outputs": [],
   "source": [
    "# find energy generated by each source\n",
    "generation_df = pd.DataFrame()\n",
    "for sector in sectors:\n",
    "    \n",
    "    # extract data\n",
    "    sector_data = df[df['Commodity - Transaction'].isin(sectors[sector])]\n",
    "    \n",
    "    # validate data\n",
    "    data_check = validate_data_task1(sector_data)\n",
    "    if data_check != 'data good':\n",
    "        raise Exception('data validation for {} failed'.format(sector))\n",
    "    \n",
    "    # transform data\n",
    "    generated = sum(sector_data['Quantity'])\n",
    "    \n",
    "    # load into dataframe\n",
    "    generation_df.insert(0, sector, [generated])\n",
    "\n",
    "\n",
    "# subtract coal, oil, natural gas, and biofuels from total thermal to find other_thermal\n",
    "generation_df['other_thermal'] = generation_df['other_thermal'] - (generation_df['coal'] +\n",
    "                                                                   generation_df['oil'] +\n",
    "                                                                   generation_df['natural_gas'] +\n",
    "                                                                   generation_df['biofuels']\n",
    "                                                                  )"
   ]
  },
  {
   "cell_type": "code",
   "execution_count": 6,
   "id": "2cceacde",
   "metadata": {},
   "outputs": [
    {
     "data": {
      "text/html": [
       "<div>\n",
       "<style scoped>\n",
       "    .dataframe tbody tr th:only-of-type {\n",
       "        vertical-align: middle;\n",
       "    }\n",
       "\n",
       "    .dataframe tbody tr th {\n",
       "        vertical-align: top;\n",
       "    }\n",
       "\n",
       "    .dataframe thead th {\n",
       "        text-align: right;\n",
       "    }\n",
       "</style>\n",
       "<table border=\"1\" class=\"dataframe\">\n",
       "  <thead>\n",
       "    <tr style=\"text-align: right;\">\n",
       "      <th></th>\n",
       "      <th>wind</th>\n",
       "      <th>solar</th>\n",
       "      <th>nuclear</th>\n",
       "      <th>hydro</th>\n",
       "      <th>other_thermal</th>\n",
       "      <th>biofuels</th>\n",
       "      <th>natural_gas</th>\n",
       "      <th>oil</th>\n",
       "      <th>coal</th>\n",
       "    </tr>\n",
       "  </thead>\n",
       "  <tbody>\n",
       "    <tr>\n",
       "      <th>0</th>\n",
       "      <td>1.272283e+06</td>\n",
       "      <td>565067.347833</td>\n",
       "      <td>2708655.22</td>\n",
       "      <td>4.305553e+06</td>\n",
       "      <td>398303.048516</td>\n",
       "      <td>459376.557346</td>\n",
       "      <td>6.164953e+06</td>\n",
       "      <td>682184.356614</td>\n",
       "      <td>9.944870e+06</td>\n",
       "    </tr>\n",
       "  </tbody>\n",
       "</table>\n",
       "</div>"
      ],
      "text/plain": [
       "           wind          solar     nuclear         hydro  other_thermal  \\\n",
       "0  1.272283e+06  565067.347833  2708655.22  4.305553e+06  398303.048516   \n",
       "\n",
       "        biofuels   natural_gas            oil          coal  \n",
       "0  459376.557346  6.164953e+06  682184.356614  9.944870e+06  "
      ]
     },
     "execution_count": 6,
     "metadata": {},
     "output_type": "execute_result"
    }
   ],
   "source": [
    "# display resulting dataframe\n",
    "generation_df"
   ]
  },
  {
   "cell_type": "markdown",
   "id": "ac638ddc",
   "metadata": {},
   "source": [
    "### Analysis"
   ]
  },
  {
   "cell_type": "code",
   "execution_count": 7,
   "id": "e42721df",
   "metadata": {},
   "outputs": [],
   "source": [
    "# extract data from dataframe\n",
    "sectors = list(generation_df.columns)\n",
    "kwh_generated = np.array(generation_df.iloc[0])\n",
    "\n",
    "# sort ascending by kWh, save order\n",
    "sorted_indices = np.argsort(kwh_generated)\n",
    "kwh_generated.sort()\n",
    "sectors = [sectors[i] for i in sorted_indices]\n",
    "\n",
    "# to answer percentage of energy generation\n",
    "percent_generation = 100 * kwh_generated / sum(kwh_generated)"
   ]
  },
  {
   "cell_type": "code",
   "execution_count": 8,
   "id": "917386db",
   "metadata": {
    "scrolled": true
   },
   "outputs": [
    {
     "data": {
      "text/plain": [
       "Text(0.5, 1.0, '2018 Energy Generation by Source')"
      ]
     },
     "execution_count": 8,
     "metadata": {},
     "output_type": "execute_result"
    },
    {
     "data": {
      "image/png": "[encoded data removed]",
      "text/plain": [
       "<Figure size 500x300 with 1 Axes>"
      ]
     },
     "metadata": {
      "needs_background": "light"
     },
     "output_type": "display_data"
    }
   ],
   "source": [
    "# make plot for percentage usage\n",
    "plt.rcParams['figure.figsize'] = [5, 3]\n",
    "plt.rcParams['figure.dpi'] = 100\n",
    "plt.bar(np.arange(len(percent_generation)), percent_generation)\n",
    "plt.xticks(ticks = range(0, len(percent_generation)), labels=sectors, rotation='vertical')\n",
    "plt.xlabel('Energy Source')\n",
    "plt.ylabel('Percent of Total Energy Generation (%)')\n",
    "plt.title('2018 Energy Generation by Source')"
   ]
  },
  {
   "cell_type": "code",
   "execution_count": 9,
   "id": "73ab77d1",
   "metadata": {},
   "outputs": [
    {
     "data": {
      "text/plain": [
       "Text(0.5, 1.0, '2018 Percent Energy Generation by Source')"
      ]
     },
     "execution_count": 9,
     "metadata": {},
     "output_type": "execute_result"
    },
    {
     "data": {
      "image/png": "[encoded data removed]",
      "text/plain": [
       "<Figure size 500x300 with 1 Axes>"
      ]
     },
     "metadata": {},
     "output_type": "display_data"
    }
   ],
   "source": [
    "# pie charts are useful for visualizations\n",
    "name_percents = [name + ': ' + str(round(percent_generation[idx], 2)) + '%' for idx, name in enumerate(sectors)]\n",
    "plt.pie(percent_generation, labels = name_percents)\n",
    "plt.title('2018 Percent Energy Generation by Source')"
   ]
  },
  {
   "cell_type": "markdown",
   "id": "b16581d0",
   "metadata": {},
   "source": [
    "\n",
    "### 2.) For the decade spanning 2008-2018, what was the worldwide energy consumption by the following sectors - households, industry, transport, agriculture, and commercial / public services?\n"
   ]
  },
  {
   "cell_type": "code",
   "execution_count": 10,
   "id": "9d8b0b2d",
   "metadata": {},
   "outputs": [],
   "source": [
    "import pandas as pd\n",
    "import numpy as np"
   ]
  },
  {
   "cell_type": "markdown",
   "id": "7dfa2eb4",
   "metadata": {},
   "source": [
    "### Read Data"
   ]
  },
  {
   "cell_type": "code",
   "execution_count": 11,
   "id": "a8d3d2af",
   "metadata": {},
   "outputs": [],
   "source": [
    "# change to True to see print statements\n",
    "verbose = False\n",
    "\n",
    "# read data into a dataframe\n",
    "filename = 'total_electricity_2008_2018.csv'\n",
    "df = pd.read_csv(filename)"
   ]
  },
  {
   "cell_type": "markdown",
   "id": "472c42b8",
   "metadata": {},
   "source": [
    "### Extract Data"
   ]
  },
  {
   "cell_type": "code",
   "execution_count": 12,
   "id": "539e132d",
   "metadata": {
    "scrolled": true
   },
   "outputs": [],
   "source": [
    "# fetch unique list of commodities\n",
    "total_coms = df['Commodity - Transaction'].unique()\n",
    "\n",
    "# filter on 'Consumption' to get relevant groups\n",
    "mask = [True if com.find('Consumption') > 0 else False for com in total_coms]\n",
    "coms = total_coms[mask]\n",
    "\n",
    "# view relevent commodities\n",
    "if verbose:\n",
    "    for idx, com in enumerate(coms):\n",
    "        print('{} : {}'.format(idx, com))\n",
    "\n",
    "# manually pull and group commodities into specified sectors\n",
    "households_group = [coms[4]]\n",
    "transport_group = list(coms[18:22]) + list(coms[23:25])\n",
    "agriculture_group = [coms[5]]\n",
    "commercial_public_services_group = [coms[7]]\n",
    "industry_group = list(coms[0:3])\n",
    "\n",
    "# store groups in a dict\n",
    "sectors = {'households': households_group, \n",
    "           'transport': transport_group, \n",
    "           'agriculture': agriculture_group, \n",
    "           'commercial_public_services': commercial_public_services_group, \n",
    "           'industry': industry_group\n",
    "          }\n",
    "\n",
    "# display contents of each sector\n",
    "if verbose:\n",
    "    for sector in sectors:\n",
    "        print('===================================================')\n",
    "        print('                    {}                    '.format(sector))\n",
    "        for agg in sectors[sector]:\n",
    "            print(agg)\n",
    "\n",
    "\n",
    "# flatten to list of commodities for easy filtering\n",
    "coms = [item for i in sectors for item in sectors[i]]\n",
    "\n",
    "# filter out unused entries from dataframe\n",
    "df = df[df['Commodity - Transaction'].isin(coms)]\n",
    "df = df[df['Year'].notna()] # (drop nans)"
   ]
  },
  {
   "cell_type": "markdown",
   "id": "19201a2e",
   "metadata": {},
   "source": [
    "#### Disclaimer: I am making the assumptions that it is reasonable to aggregate groups of commodities together to form the sectors:\n",
    "\n",
    "#### Households: Households\n",
    "#### Transport: Transport; Rail; Pipeline Transport; Transport Equipment; Road; Not Elsewhere Specified (transport)\n",
    "#### Agriculture: Agriculture, Forest, and Fishing\n",
    "#### Commercial / Public Services: Commercial and Public Services\n",
    "#### Industry: Manufacturing, Construction, Non-fuel Industry; Other Manufacturing and Non-fuel Industry; Not Elsewhere Specified (industry)\n",
    "\n",
    "##### note: if this were a task at work, I would consult with a subject matter expert or spend time researching the topic more in depth before making the decisions on aggregation"
   ]
  },
  {
   "cell_type": "markdown",
   "id": "7965b8bd",
   "metadata": {},
   "source": [
    "### Validate Data"
   ]
  },
  {
   "cell_type": "code",
   "execution_count": 13,
   "id": "99d6830a",
   "metadata": {},
   "outputs": [],
   "source": [
    "# verify that the data meets some criteria before using it in analysis\n",
    "def validate_data_task2(df):\n",
    "    \n",
    "    # check that the year is correct\n",
    "    if not (df['Year'].to_numpy() > 2007).all() and (df['Year'].to_numpy() < 2019).all():\n",
    "        return 'error: not all data from between 2008 and 2018 (inclusive)'\n",
    "    \n",
    "    # check that the units are the same\n",
    "    if len(df['Unit'].unique()) > 1:\n",
    "        return 'error: cannot add dissimilar units'\n",
    "    \n",
    "    # check that each quantity is not negative\n",
    "    if df['Quantity'].min() < 0:\n",
    "        return 'error: negative quantity in data'\n",
    "    \n",
    "    return 'data good'\n",
    "\n",
    "# validate data\n",
    "data_check = validate_data_task2(df)\n",
    "if data_check != 'data good':\n",
    "    raise Exception('data validation failed')"
   ]
  },
  {
   "cell_type": "markdown",
   "id": "63bbbea7",
   "metadata": {},
   "source": [
    "### Transform Data"
   ]
  },
  {
   "cell_type": "code",
   "execution_count": 14,
   "id": "fbb6c02f",
   "metadata": {},
   "outputs": [],
   "source": [
    "# create new dataframe consisting of total energy usage by sector for each year\n",
    "years = df['Year'].unique()\n",
    "usage_df = pd.DataFrame(columns = sectors.keys())\n",
    "\n",
    "\n",
    "# fill dataframe, summing sectors over each year\n",
    "for year in years:\n",
    "    for idx, group in enumerate(sectors):\n",
    "        usage_df.loc[year, group] = round(sum(df[(df['Year'] == year) & \n",
    "                                                 (df['Commodity - Transaction'].isin(sectors[group]))]['Quantity']), 2)"
   ]
  },
  {
   "cell_type": "code",
   "execution_count": 15,
   "id": "2b768b07",
   "metadata": {},
   "outputs": [
    {
     "data": {
      "text/html": [
       "<div>\n",
       "<style scoped>\n",
       "    .dataframe tbody tr th:only-of-type {\n",
       "        vertical-align: middle;\n",
       "    }\n",
       "\n",
       "    .dataframe tbody tr th {\n",
       "        vertical-align: top;\n",
       "    }\n",
       "\n",
       "    .dataframe thead th {\n",
       "        text-align: right;\n",
       "    }\n",
       "</style>\n",
       "<table border=\"1\" class=\"dataframe\">\n",
       "  <thead>\n",
       "    <tr style=\"text-align: right;\">\n",
       "      <th></th>\n",
       "      <th>households</th>\n",
       "      <th>transport</th>\n",
       "      <th>agriculture</th>\n",
       "      <th>commercial_public_services</th>\n",
       "      <th>industry</th>\n",
       "    </tr>\n",
       "  </thead>\n",
       "  <tbody>\n",
       "    <tr>\n",
       "      <th>2018.0</th>\n",
       "      <td>6001257.41</td>\n",
       "      <td>991511.09</td>\n",
       "      <td>675963.22</td>\n",
       "      <td>4329228.6</td>\n",
       "      <td>20900782.1</td>\n",
       "    </tr>\n",
       "    <tr>\n",
       "      <th>2017.0</th>\n",
       "      <td>5780085.27</td>\n",
       "      <td>936882.95</td>\n",
       "      <td>651549.06</td>\n",
       "      <td>4265571.99</td>\n",
       "      <td>19915046.4</td>\n",
       "    </tr>\n",
       "    <tr>\n",
       "      <th>2016.0</th>\n",
       "      <td>5700906.86</td>\n",
       "      <td>920655.86</td>\n",
       "      <td>620399.76</td>\n",
       "      <td>4233395.28</td>\n",
       "      <td>18863001.25</td>\n",
       "    </tr>\n",
       "    <tr>\n",
       "      <th>2015.0</th>\n",
       "      <td>5495384.13</td>\n",
       "      <td>885349.31</td>\n",
       "      <td>579902.72</td>\n",
       "      <td>4164842.34</td>\n",
       "      <td>18568455.8</td>\n",
       "    </tr>\n",
       "    <tr>\n",
       "      <th>2014.0</th>\n",
       "      <td>5378756.17</td>\n",
       "      <td>881701.51</td>\n",
       "      <td>558760.55</td>\n",
       "      <td>4081491.74</td>\n",
       "      <td>18201652.06</td>\n",
       "    </tr>\n",
       "    <tr>\n",
       "      <th>2013.0</th>\n",
       "      <td>5304907.67</td>\n",
       "      <td>867638.83</td>\n",
       "      <td>544948.47</td>\n",
       "      <td>4079399.98</td>\n",
       "      <td>17758469.18</td>\n",
       "    </tr>\n",
       "    <tr>\n",
       "      <th>2012.0</th>\n",
       "      <td>5112499.01</td>\n",
       "      <td>835113.19</td>\n",
       "      <td>526212.13</td>\n",
       "      <td>4020035.44</td>\n",
       "      <td>17393008.27</td>\n",
       "    </tr>\n",
       "    <tr>\n",
       "      <th>2011.0</th>\n",
       "      <td>5004497.96</td>\n",
       "      <td>813308.56</td>\n",
       "      <td>512656.81</td>\n",
       "      <td>3977785.6</td>\n",
       "      <td>16914619.09</td>\n",
       "    </tr>\n",
       "    <tr>\n",
       "      <th>2010.0</th>\n",
       "      <td>4986698.5</td>\n",
       "      <td>767120.2</td>\n",
       "      <td>497433.7</td>\n",
       "      <td>3932924.34</td>\n",
       "      <td>15727208.48</td>\n",
       "    </tr>\n",
       "    <tr>\n",
       "      <th>2009.0</th>\n",
       "      <td>4693883.53</td>\n",
       "      <td>724711.28</td>\n",
       "      <td>475983.88</td>\n",
       "      <td>3803877.58</td>\n",
       "      <td>14486668.86</td>\n",
       "    </tr>\n",
       "    <tr>\n",
       "      <th>2008.0</th>\n",
       "      <td>4612271.95</td>\n",
       "      <td>752880.26</td>\n",
       "      <td>459308.4</td>\n",
       "      <td>3747251.84</td>\n",
       "      <td>14775893.52</td>\n",
       "    </tr>\n",
       "  </tbody>\n",
       "</table>\n",
       "</div>"
      ],
      "text/plain": [
       "        households  transport agriculture commercial_public_services  \\\n",
       "2018.0  6001257.41  991511.09   675963.22                  4329228.6   \n",
       "2017.0  5780085.27  936882.95   651549.06                 4265571.99   \n",
       "2016.0  5700906.86  920655.86   620399.76                 4233395.28   \n",
       "2015.0  5495384.13  885349.31   579902.72                 4164842.34   \n",
       "2014.0  5378756.17  881701.51   558760.55                 4081491.74   \n",
       "2013.0  5304907.67  867638.83   544948.47                 4079399.98   \n",
       "2012.0  5112499.01  835113.19   526212.13                 4020035.44   \n",
       "2011.0  5004497.96  813308.56   512656.81                  3977785.6   \n",
       "2010.0   4986698.5   767120.2    497433.7                 3932924.34   \n",
       "2009.0  4693883.53  724711.28   475983.88                 3803877.58   \n",
       "2008.0  4612271.95  752880.26    459308.4                 3747251.84   \n",
       "\n",
       "           industry  \n",
       "2018.0   20900782.1  \n",
       "2017.0   19915046.4  \n",
       "2016.0  18863001.25  \n",
       "2015.0   18568455.8  \n",
       "2014.0  18201652.06  \n",
       "2013.0  17758469.18  \n",
       "2012.0  17393008.27  \n",
       "2011.0  16914619.09  \n",
       "2010.0  15727208.48  \n",
       "2009.0  14486668.86  \n",
       "2008.0  14775893.52  "
      ]
     },
     "execution_count": 15,
     "metadata": {},
     "output_type": "execute_result"
    }
   ],
   "source": [
    "usage_df"
   ]
  },
  {
   "cell_type": "code",
   "execution_count": 16,
   "id": "d4c26a26",
   "metadata": {},
   "outputs": [],
   "source": [
    "# sum over all years to get decade total\n",
    "decade_summary = usage_df.sum()\n",
    "\n",
    "# extract data from series\n",
    "sectors = list(decade_summary.index)\n",
    "consumption = np.array(decade_summary)\n",
    "\n",
    "# sort ascending by kWh, save order\n",
    "sorted_indices = np.argsort(consumption)\n",
    "consumption.sort()\n",
    "sectors = [sectors[i] for i in sorted_indices]"
   ]
  },
  {
   "cell_type": "markdown",
   "id": "9e6a49b8",
   "metadata": {},
   "source": [
    "### Analysis"
   ]
  },
  {
   "cell_type": "code",
   "execution_count": 17,
   "id": "64ac999a",
   "metadata": {},
   "outputs": [
    {
     "data": {
      "text/plain": [
       "Text(0.5, 1.0, '2008-2018 Energy Consumption')"
      ]
     },
     "execution_count": 17,
     "metadata": {},
     "output_type": "execute_result"
    },
    {
     "data": {
      "image/png": "[encoded data removed]",
      "text/plain": [
       "<Figure size 500x300 with 1 Axes>"
      ]
     },
     "metadata": {
      "needs_background": "light"
     },
     "output_type": "display_data"
    }
   ],
   "source": [
    "# make plot for percentage usage\n",
    "plt.rcParams['figure.figsize'] = [5, 3]\n",
    "plt.rcParams['figure.dpi'] = 100\n",
    "plt.bar(np.arange(len(consumption)), consumption)\n",
    "plt.xticks(ticks = range(0, len(consumption)), labels=sectors, rotation='vertical')\n",
    "plt.xlabel('Sector')\n",
    "plt.ylabel('Energy Usage (kWh, millions)')\n",
    "plt.title('2008-2018 Energy Consumption')"
   ]
  },
  {
   "cell_type": "code",
   "execution_count": 18,
   "id": "7dd96219",
   "metadata": {},
   "outputs": [
    {
     "data": {
      "text/plain": [
       "Text(0.5, 1.0, '2008 - 2018 Percent Energy Consumption by Sector')"
      ]
     },
     "execution_count": 18,
     "metadata": {},
     "output_type": "execute_result"
    },
    {
     "data": {
      "image/png": "[encoded data removed]",
      "text/plain": [
       "<Figure size 500x300 with 1 Axes>"
      ]
     },
     "metadata": {},
     "output_type": "display_data"
    }
   ],
   "source": [
    "# pie charts are useful for visualizations\n",
    "percent_consumption = 100 * consumption / sum(consumption)\n",
    "name_percents = [name + ': ' + str(round(percent_consumption[idx], 2)) + '%' for idx, name in enumerate(sectors)]\n",
    "plt.pie(consumption, labels = name_percents)\n",
    "plt.title('2008 - 2018 Percent Energy Consumption by Sector')"
   ]
  },
  {
   "cell_type": "markdown",
   "id": "0a510d79",
   "metadata": {},
   "source": [
    "### 3.) Lastly, we would like you to list up to two (2) questions you consider would be interesting to ask of the same dataset available."
   ]
  },
  {
   "cell_type": "markdown",
   "id": "352852e8",
   "metadata": {},
   "source": [
    "## Instructions:"
   ]
  },
  {
   "cell_type": "markdown",
   "id": "c75ccc04",
   "metadata": {},
   "source": [
    "### 1.) Please create and share a public git repo on a hosting provider of your choice -Github, Bitbucket, etc."
   ]
  },
  {
   "cell_type": "markdown",
   "id": "1b873f8c",
   "metadata": {},
   "source": [
    "### 2.) Include a README with steps on how to run your program and generate the answers/visualizations."
   ]
  },
  {
   "cell_type": "code",
   "execution_count": null,
   "id": "e5d39daa",
   "metadata": {},
   "outputs": [],
   "source": []
  }
 ],
 "metadata": {
  "kernelspec": {
   "display_name": "Python 3",
   "language": "python",
   "name": "python3"
  },
  "language_info": {
   "codemirror_mode": {
    "name": "ipython",
    "version": 3
   },
   "file_extension": ".py",
   "mimetype": "text/x-python",
   "name": "python",
   "nbconvert_exporter": "python",
   "pygments_lexer": "ipython3",
   "version": "3.8.5"
  }
 },
 "nbformat": 4,
 "nbformat_minor": 5
}
