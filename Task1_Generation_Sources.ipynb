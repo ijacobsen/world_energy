{
 "cells": [
  {
   "cell_type": "markdown",
   "id": "628e04e4",
   "metadata": {},
   "source": [
    "\n",
    "### 1.) For 2018, what was the percentage of the World’s electricity generation by the following sources - Coal, Oil, Natural Gas, Biofuels, Hydro, Nuclear, solar, and wind?\n"
   ]
  },
  {
   "cell_type": "code",
   "execution_count": 1,
   "id": "8070f5e6",
   "metadata": {},
   "outputs": [],
   "source": [
    "import pandas as pd\n",
    "import numpy as np\n",
    "from matplotlib import pyplot as plt\n",
    "\n",
    "\n",
    "# change 'verbose' to True to see print statements\n",
    "verbose = False"
   ]
  },
  {
   "cell_type": "markdown",
   "id": "f804ebf7",
   "metadata": {},
   "source": [
    "### Combine Data Files"
   ]
  },
  {
   "cell_type": "markdown",
   "id": "69614708",
   "metadata": {},
   "source": [
    "#### The UNdata Explorer interface was used to gather the data for this analysis. Due to the how the interface is designed, seperate queries were made to collect all of the relevant data. For ease of use I will combine all of the datasets into a single dataframe."
   ]
  },
  {
   "cell_type": "code",
   "execution_count": 2,
   "id": "45e87826",
   "metadata": {},
   "outputs": [],
   "source": [
    "# read data into a dataframe\n",
    "df = pd.read_csv('thermal.csv')\n",
    "filenames = ['hydro.csv', 'nuclear.csv', 'solar.csv', 'wind.csv']\n",
    "for sector in filenames:\n",
    "    temp = pd.read_csv(sector)\n",
    "    df = df.append(temp)"
   ]
  },
  {
   "cell_type": "markdown",
   "id": "cce6dacd",
   "metadata": {},
   "source": [
    "### Organize Data into Energy Sources"
   ]
  },
  {
   "cell_type": "markdown",
   "id": "35ddae8e",
   "metadata": {},
   "source": [
    "#### Disclaimer: I am making the assumptions that it is reasonable to aggregate groups of commodities together to form the groups:\n",
    "\n",
    "#### Coal: Hard Coal, Solid Coal Products, Brown Coal\n",
    "#### Oil: Gas Oil / Diesel Oil, Fuel Oil, Other Oil Products, Oil Shale\n",
    "#### Natural Gas: Natural Gas\n",
    "#### Biofuels: Solid Biofuels, Liquid Biofueld, Biogases\n",
    "\n",
    "##### note: if this were a task at work, I would consult with a subject matter expert or spend time researching the topic more in depth before making the decisions on aggregation"
   ]
  },
  {
   "cell_type": "code",
   "execution_count": 3,
   "id": "aef0473d",
   "metadata": {},
   "outputs": [],
   "source": [
    "# fetch list of commodities\n",
    "coms = df['Commodity - Transaction'].unique()\n",
    "\n",
    "# print out commodities and their positions in list\n",
    "if verbose:\n",
    "    for idx, com in enumerate(coms):\n",
    "        print('{} : {}'.format(idx, com))\n",
    "        \n",
    "# aggregate commodities into energy sources\n",
    "coal_group = [coms[1], coms[13], coms[14]]\n",
    "oil_group = [coms[2], coms[3], coms[8], coms[17]]\n",
    "ng_group = [coms[4]]\n",
    "biofuel_group = [coms[9], coms[10], coms[12]]\n",
    "other_thermal = [coms[0]]\n",
    "hydro_group = [coms[20]]\n",
    "nuclear_group = [coms[21]]\n",
    "solar_group = [coms[22]]\n",
    "wind_group = [coms[23]]\n",
    "\n",
    "# store groups in a dict\n",
    "sectors = {'coal': coal_group, \n",
    "           'oil': oil_group, \n",
    "           'natural_gas': ng_group, \n",
    "           'biofuels': biofuel_group, \n",
    "           'other_thermal': other_thermal,\n",
    "           'hydro': hydro_group,\n",
    "           'nuclear': nuclear_group,\n",
    "           'solar': solar_group,\n",
    "           'wind': wind_group\n",
    "          }\n",
    "\n",
    "# display groups\n",
    "if verbose:\n",
    "    for sector in sectors:\n",
    "        print('===================================================')\n",
    "        print('                    {}                    '.format(sector))\n",
    "        for agg in sectors[sector]:\n",
    "            print(agg)\n"
   ]
  },
  {
   "cell_type": "markdown",
   "id": "c35eff80",
   "metadata": {},
   "source": [
    "### Transform Data"
   ]
  },
  {
   "cell_type": "code",
   "execution_count": 4,
   "id": "3f4a049f",
   "metadata": {},
   "outputs": [],
   "source": [
    "# verify that the data meets some criteria before using it in analysis\n",
    "def validate_data_task1(df):\n",
    "    \n",
    "    # check that the year is correct\n",
    "    if not (df['Year'].to_numpy() == 2018).all():\n",
    "        return 'error: not all data from 2018'\n",
    "    \n",
    "    # check that the units are the same\n",
    "    if len(df['Unit'].unique()) > 1:\n",
    "        return 'error: cannot add dissimilar units'\n",
    "    \n",
    "    # check that each quantity is not negative\n",
    "    if df['Quantity'].min() < 0:\n",
    "        return 'error: negative quantity in data'\n",
    "    \n",
    "    return 'data good'"
   ]
  },
  {
   "cell_type": "code",
   "execution_count": 5,
   "id": "f874118a",
   "metadata": {},
   "outputs": [],
   "source": [
    "# find energy generated by each source\n",
    "generation_df = pd.DataFrame()\n",
    "for sector in sectors:\n",
    "    \n",
    "    # extract data for energy group\n",
    "    sector_data = df[df['Commodity - Transaction'].isin(sectors[sector])]\n",
    "    \n",
    "    # validate data meets criteria\n",
    "    data_check = validate_data_task1(sector_data)\n",
    "    if data_check != 'data good':\n",
    "        raise Exception('data validation for {} failed'.format(sector))\n",
    "    \n",
    "    # transform data\n",
    "    generated = sum(sector_data['Quantity'])\n",
    "    \n",
    "    # load transformed data into dataframe\n",
    "    generation_df.insert(0, sector, [generated])\n",
    "\n",
    "\n",
    "# subtract coal, oil, natural gas, and biofuels from total thermal to find other_thermal\n",
    "generation_df['other_thermal'] = generation_df['other_thermal'] - (generation_df['coal'] +\n",
    "                                                                   generation_df['oil'] +\n",
    "                                                                   generation_df['natural_gas'] +\n",
    "                                                                   generation_df['biofuels']\n",
    "                                                                  )"
   ]
  },
  {
   "cell_type": "code",
   "execution_count": 6,
   "id": "2cceacde",
   "metadata": {},
   "outputs": [
    {
     "data": {
      "text/html": [
       "<div>\n",
       "<style scoped>\n",
       "    .dataframe tbody tr th:only-of-type {\n",
       "        vertical-align: middle;\n",
       "    }\n",
       "\n",
       "    .dataframe tbody tr th {\n",
       "        vertical-align: top;\n",
       "    }\n",
       "\n",
       "    .dataframe thead th {\n",
       "        text-align: right;\n",
       "    }\n",
       "</style>\n",
       "<table border=\"1\" class=\"dataframe\">\n",
       "  <thead>\n",
       "    <tr style=\"text-align: right;\">\n",
       "      <th></th>\n",
       "      <th>wind</th>\n",
       "      <th>solar</th>\n",
       "      <th>nuclear</th>\n",
       "      <th>hydro</th>\n",
       "      <th>other_thermal</th>\n",
       "      <th>biofuels</th>\n",
       "      <th>natural_gas</th>\n",
       "      <th>oil</th>\n",
       "      <th>coal</th>\n",
       "    </tr>\n",
       "  </thead>\n",
       "  <tbody>\n",
       "    <tr>\n",
       "      <th>0</th>\n",
       "      <td>1.272283e+06</td>\n",
       "      <td>565067.347833</td>\n",
       "      <td>2708655.22</td>\n",
       "      <td>4.305553e+06</td>\n",
       "      <td>398303.048516</td>\n",
       "      <td>459376.557346</td>\n",
       "      <td>6.164953e+06</td>\n",
       "      <td>682184.356614</td>\n",
       "      <td>9.944870e+06</td>\n",
       "    </tr>\n",
       "  </tbody>\n",
       "</table>\n",
       "</div>"
      ],
      "text/plain": [
       "           wind          solar     nuclear         hydro  other_thermal  \\\n",
       "0  1.272283e+06  565067.347833  2708655.22  4.305553e+06  398303.048516   \n",
       "\n",
       "        biofuels   natural_gas            oil          coal  \n",
       "0  459376.557346  6.164953e+06  682184.356614  9.944870e+06  "
      ]
     },
     "execution_count": 6,
     "metadata": {},
     "output_type": "execute_result"
    }
   ],
   "source": [
    "# display resulting dataframe\n",
    "generation_df"
   ]
  },
  {
   "cell_type": "markdown",
   "id": "ac638ddc",
   "metadata": {},
   "source": [
    "### Analysis and Visualization"
   ]
  },
  {
   "cell_type": "code",
   "execution_count": 7,
   "id": "e42721df",
   "metadata": {},
   "outputs": [],
   "source": [
    "# extract data from dataframe\n",
    "sectors = list(generation_df.columns)\n",
    "kwh_generated = np.array(generation_df.iloc[0])\n",
    "\n",
    "# sort ascending by kWh, save order\n",
    "sorted_indices = np.argsort(kwh_generated)\n",
    "kwh_generated.sort()\n",
    "sectors = [sectors[i] for i in sorted_indices]\n",
    "\n",
    "# to answer percentage of energy generation\n",
    "percent_generation = 100 * kwh_generated / sum(kwh_generated)"
   ]
  },
  {
   "cell_type": "code",
   "execution_count": 8,
   "id": "917386db",
   "metadata": {
    "scrolled": true
   },
   "outputs": [
    {
     "data": {
      "text/plain": [
       "Text(0.5, 1.0, '2018 Energy Generation by Source')"
      ]
     },
     "execution_count": 8,
     "metadata": {},
     "output_type": "execute_result"
    },
    {
     "data": {
      "image/png": "[encoded data removed]",
      "text/plain": [
       "<Figure size 500x300 with 1 Axes>"
      ]
     },
     "metadata": {
      "needs_background": "light"
     },
     "output_type": "display_data"
    }
   ],
   "source": [
    "# make plot for percentage usage\n",
    "plt.rcParams['figure.figsize'] = [5, 3]\n",
    "plt.rcParams['figure.dpi'] = 100\n",
    "plt.bar(np.arange(len(percent_generation)), percent_generation)\n",
    "plt.xticks(ticks = range(0, len(percent_generation)), labels=sectors, rotation='vertical')\n",
    "plt.xlabel('Energy Source')\n",
    "plt.ylabel('Percent of Total Energy Generation (%)')\n",
    "plt.title('2018 Energy Generation by Source')"
   ]
  },
  {
   "cell_type": "code",
   "execution_count": 9,
   "id": "73ab77d1",
   "metadata": {},
   "outputs": [
    {
     "data": {
      "text/plain": [
       "Text(0.5, 1.0, '2018 Percent Energy Generation by Source')"
      ]
     },
     "execution_count": 9,
     "metadata": {},
     "output_type": "execute_result"
    },
    {
     "data": {
      "image/png": "[encoded data removed]",
      "text/plain": [
       "<Figure size 500x300 with 1 Axes>"
      ]
     },
     "metadata": {},
     "output_type": "display_data"
    }
   ],
   "source": [
    "# pie charts are useful for visualizations\n",
    "name_percents = [name + ': ' + str(round(percent_generation[idx], 2)) + '%' for idx, name in enumerate(sectors)]\n",
    "plt.pie(percent_generation, labels = name_percents)\n",
    "plt.title('2018 Percent Energy Generation by Source')"
   ]
  },
  {
   "cell_type": "markdown",
   "id": "9e1b95dd",
   "metadata": {},
   "source": [
    "### Discussion"
   ]
  },
  {
   "cell_type": "markdown",
   "id": "3146e587",
   "metadata": {},
   "source": [
    "The data used in this analysis shows that over 60% of the power generated in 2018 is from non-renewable fuel sources. Dynamic pricing of electric power is going to increasingly effect consumers as the share of renewable energy increases over the decades to come."
   ]
  }
 ],
 "metadata": {
  "kernelspec": {
   "display_name": "Python 3",
   "language": "python",
   "name": "python3"
  },
  "language_info": {
   "codemirror_mode": {
    "name": "ipython",
    "version": 3
   },
   "file_extension": ".py",
   "mimetype": "text/x-python",
   "name": "python",
   "nbconvert_exporter": "python",
   "pygments_lexer": "ipython3",
   "version": "3.8.5"
  }
 },
 "nbformat": 4,
 "nbformat_minor": 5
}
