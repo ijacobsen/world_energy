{
 "cells": [
  {
   "cell_type": "markdown",
   "id": "abd723b5",
   "metadata": {},
   "source": [
    "### 2.) For the decade spanning 2008-2018, what was the worldwide energy consumption by the following sectors - households, industry, transport, agriculture, and commercial / public services?"
   ]
  },
  {
   "cell_type": "code",
   "execution_count": 1,
   "id": "9d8b0b2d",
   "metadata": {},
   "outputs": [],
   "source": [
    "import pandas as pd\n",
    "import numpy as np\n",
    "from matplotlib import pyplot as plt\n",
    "\n",
    "# set 'verbose' to True to see print statements\n",
    "verbose = False"
   ]
  },
  {
   "cell_type": "markdown",
   "id": "7dfa2eb4",
   "metadata": {},
   "source": [
    "### Read Data"
   ]
  },
  {
   "cell_type": "code",
   "execution_count": 2,
   "id": "a8d3d2af",
   "metadata": {},
   "outputs": [],
   "source": [
    "# read data into a dataframe\n",
    "filename = 'total_electricity_2008_2018.csv'\n",
    "df = pd.read_csv(filename)"
   ]
  },
  {
   "cell_type": "markdown",
   "id": "472c42b8",
   "metadata": {},
   "source": [
    "### Extract Data"
   ]
  },
  {
   "cell_type": "code",
   "execution_count": 3,
   "id": "539e132d",
   "metadata": {
    "scrolled": true
   },
   "outputs": [],
   "source": [
    "# fetch unique list of commodities\n",
    "total_coms = df['Commodity - Transaction'].unique()\n",
    "\n",
    "# filter on 'Consumption' to get relevant groups\n",
    "mask = [True if com.find('Consumption') > 0 else False for com in total_coms]\n",
    "coms = total_coms[mask]\n",
    "\n",
    "# view relevent commodities\n",
    "if verbose:\n",
    "    for idx, com in enumerate(coms):\n",
    "        print('{} : {}'.format(idx, com))\n",
    "\n",
    "# manually pull and group commodities into specified sectors\n",
    "households_group = [coms[4]]\n",
    "transport_group = list(coms[18:22]) + list(coms[23:25])\n",
    "agriculture_group = [coms[5]]\n",
    "commercial_public_services_group = [coms[7]]\n",
    "industry_group = list(coms[0:3])\n",
    "\n",
    "# store groups in a dict\n",
    "sectors = {'households': households_group, \n",
    "           'transport': transport_group, \n",
    "           'agriculture': agriculture_group, \n",
    "           'commercial_public_services': commercial_public_services_group, \n",
    "           'industry': industry_group\n",
    "          }\n",
    "\n",
    "# display contents of each sector\n",
    "if verbose:\n",
    "    for sector in sectors:\n",
    "        print('===================================================')\n",
    "        print('                    {}                    '.format(sector))\n",
    "        for agg in sectors[sector]:\n",
    "            print(agg)\n",
    "\n",
    "\n",
    "# flatten to list of commodities for easy filtering\n",
    "coms = [item for i in sectors for item in sectors[i]]\n",
    "\n",
    "# filter out unused entries from dataframe\n",
    "df = df[df['Commodity - Transaction'].isin(coms)]\n",
    "df = df[df['Year'].notna()] # (drop nans)"
   ]
  },
  {
   "cell_type": "markdown",
   "id": "19201a2e",
   "metadata": {},
   "source": [
    "#### Disclaimer: I am making the assumptions that it is reasonable to aggregate groups of commodities together to form the sectors:\n",
    "\n",
    "#### Households: Households\n",
    "#### Transport: Transport; Rail; Pipeline Transport; Transport Equipment; Road; Not Elsewhere Specified (transport)\n",
    "#### Agriculture: Agriculture, Forest, and Fishing\n",
    "#### Commercial / Public Services: Commercial and Public Services\n",
    "#### Industry: Manufacturing, Construction, Non-fuel Industry; Other Manufacturing and Non-fuel Industry; Not Elsewhere Specified (industry)\n",
    "\n",
    "##### note: if this were a task at work, I would consult with a subject matter expert or spend time researching the topic more in depth before making the decisions on aggregation"
   ]
  },
  {
   "cell_type": "markdown",
   "id": "7965b8bd",
   "metadata": {},
   "source": [
    "### Validate Data"
   ]
  },
  {
   "cell_type": "code",
   "execution_count": 4,
   "id": "99d6830a",
   "metadata": {},
   "outputs": [],
   "source": [
    "# verify that the data meets some criteria before using it in analysis\n",
    "def validate_data_task2(df):\n",
    "    \n",
    "    # check that the year is correct\n",
    "    if not (df['Year'].to_numpy() > 2007).all() and (df['Year'].to_numpy() < 2019).all():\n",
    "        return 'error: not all data from between 2008 and 2018 (inclusive)'\n",
    "    \n",
    "    # check that the units are the same\n",
    "    if len(df['Unit'].unique()) > 1:\n",
    "        return 'error: cannot add dissimilar units'\n",
    "    \n",
    "    # check that each quantity is not negative\n",
    "    if df['Quantity'].min() < 0:\n",
    "        return 'error: negative quantity in data'\n",
    "    \n",
    "    return 'data good'\n",
    "\n",
    "# validate data\n",
    "data_check = validate_data_task2(df)\n",
    "if data_check != 'data good':\n",
    "    raise Exception('data validation failed')"
   ]
  },
  {
   "cell_type": "markdown",
   "id": "63bbbea7",
   "metadata": {},
   "source": [
    "### Transform Data"
   ]
  },
  {
   "cell_type": "code",
   "execution_count": 5,
   "id": "fbb6c02f",
   "metadata": {},
   "outputs": [],
   "source": [
    "# create new dataframe consisting of total energy usage by sector for each year\n",
    "years = df['Year'].unique()\n",
    "usage_df = pd.DataFrame(columns = sectors.keys())\n",
    "\n",
    "\n",
    "# fill dataframe, summing sectors over each year\n",
    "for year in years:\n",
    "    for idx, group in enumerate(sectors):\n",
    "        usage_df.loc[year, group] = round(sum(df[(df['Year'] == year) & \n",
    "                                                 (df['Commodity - Transaction'].isin(sectors[group]))]['Quantity']), 2)"
   ]
  },
  {
   "cell_type": "code",
   "execution_count": 6,
   "id": "2b768b07",
   "metadata": {},
   "outputs": [
    {
     "data": {
      "text/html": [
       "<div>\n",
       "<style scoped>\n",
       "    .dataframe tbody tr th:only-of-type {\n",
       "        vertical-align: middle;\n",
       "    }\n",
       "\n",
       "    .dataframe tbody tr th {\n",
       "        vertical-align: top;\n",
       "    }\n",
       "\n",
       "    .dataframe thead th {\n",
       "        text-align: right;\n",
       "    }\n",
       "</style>\n",
       "<table border=\"1\" class=\"dataframe\">\n",
       "  <thead>\n",
       "    <tr style=\"text-align: right;\">\n",
       "      <th></th>\n",
       "      <th>households</th>\n",
       "      <th>transport</th>\n",
       "      <th>agriculture</th>\n",
       "      <th>commercial_public_services</th>\n",
       "      <th>industry</th>\n",
       "    </tr>\n",
       "  </thead>\n",
       "  <tbody>\n",
       "    <tr>\n",
       "      <th>2018.0</th>\n",
       "      <td>6001257.41</td>\n",
       "      <td>991511.09</td>\n",
       "      <td>675963.22</td>\n",
       "      <td>4329228.6</td>\n",
       "      <td>20900782.1</td>\n",
       "    </tr>\n",
       "    <tr>\n",
       "      <th>2017.0</th>\n",
       "      <td>5780085.27</td>\n",
       "      <td>936882.95</td>\n",
       "      <td>651549.06</td>\n",
       "      <td>4265571.99</td>\n",
       "      <td>19915046.4</td>\n",
       "    </tr>\n",
       "    <tr>\n",
       "      <th>2016.0</th>\n",
       "      <td>5700906.86</td>\n",
       "      <td>920655.86</td>\n",
       "      <td>620399.76</td>\n",
       "      <td>4233395.28</td>\n",
       "      <td>18863001.25</td>\n",
       "    </tr>\n",
       "    <tr>\n",
       "      <th>2015.0</th>\n",
       "      <td>5495384.13</td>\n",
       "      <td>885349.31</td>\n",
       "      <td>579902.72</td>\n",
       "      <td>4164842.34</td>\n",
       "      <td>18568455.8</td>\n",
       "    </tr>\n",
       "    <tr>\n",
       "      <th>2014.0</th>\n",
       "      <td>5378756.17</td>\n",
       "      <td>881701.51</td>\n",
       "      <td>558760.55</td>\n",
       "      <td>4081491.74</td>\n",
       "      <td>18201652.06</td>\n",
       "    </tr>\n",
       "    <tr>\n",
       "      <th>2013.0</th>\n",
       "      <td>5304907.67</td>\n",
       "      <td>867638.83</td>\n",
       "      <td>544948.47</td>\n",
       "      <td>4079399.98</td>\n",
       "      <td>17758469.18</td>\n",
       "    </tr>\n",
       "    <tr>\n",
       "      <th>2012.0</th>\n",
       "      <td>5112499.01</td>\n",
       "      <td>835113.19</td>\n",
       "      <td>526212.13</td>\n",
       "      <td>4020035.44</td>\n",
       "      <td>17393008.27</td>\n",
       "    </tr>\n",
       "    <tr>\n",
       "      <th>2011.0</th>\n",
       "      <td>5004497.96</td>\n",
       "      <td>813308.56</td>\n",
       "      <td>512656.81</td>\n",
       "      <td>3977785.6</td>\n",
       "      <td>16914619.09</td>\n",
       "    </tr>\n",
       "    <tr>\n",
       "      <th>2010.0</th>\n",
       "      <td>4986698.5</td>\n",
       "      <td>767120.2</td>\n",
       "      <td>497433.7</td>\n",
       "      <td>3932924.34</td>\n",
       "      <td>15727208.48</td>\n",
       "    </tr>\n",
       "    <tr>\n",
       "      <th>2009.0</th>\n",
       "      <td>4693883.53</td>\n",
       "      <td>724711.28</td>\n",
       "      <td>475983.88</td>\n",
       "      <td>3803877.58</td>\n",
       "      <td>14486668.86</td>\n",
       "    </tr>\n",
       "    <tr>\n",
       "      <th>2008.0</th>\n",
       "      <td>4612271.95</td>\n",
       "      <td>752880.26</td>\n",
       "      <td>459308.4</td>\n",
       "      <td>3747251.84</td>\n",
       "      <td>14775893.52</td>\n",
       "    </tr>\n",
       "  </tbody>\n",
       "</table>\n",
       "</div>"
      ],
      "text/plain": [
       "        households  transport agriculture commercial_public_services  \\\n",
       "2018.0  6001257.41  991511.09   675963.22                  4329228.6   \n",
       "2017.0  5780085.27  936882.95   651549.06                 4265571.99   \n",
       "2016.0  5700906.86  920655.86   620399.76                 4233395.28   \n",
       "2015.0  5495384.13  885349.31   579902.72                 4164842.34   \n",
       "2014.0  5378756.17  881701.51   558760.55                 4081491.74   \n",
       "2013.0  5304907.67  867638.83   544948.47                 4079399.98   \n",
       "2012.0  5112499.01  835113.19   526212.13                 4020035.44   \n",
       "2011.0  5004497.96  813308.56   512656.81                  3977785.6   \n",
       "2010.0   4986698.5   767120.2    497433.7                 3932924.34   \n",
       "2009.0  4693883.53  724711.28   475983.88                 3803877.58   \n",
       "2008.0  4612271.95  752880.26    459308.4                 3747251.84   \n",
       "\n",
       "           industry  \n",
       "2018.0   20900782.1  \n",
       "2017.0   19915046.4  \n",
       "2016.0  18863001.25  \n",
       "2015.0   18568455.8  \n",
       "2014.0  18201652.06  \n",
       "2013.0  17758469.18  \n",
       "2012.0  17393008.27  \n",
       "2011.0  16914619.09  \n",
       "2010.0  15727208.48  \n",
       "2009.0  14486668.86  \n",
       "2008.0  14775893.52  "
      ]
     },
     "execution_count": 6,
     "metadata": {},
     "output_type": "execute_result"
    }
   ],
   "source": [
    "usage_df"
   ]
  },
  {
   "cell_type": "code",
   "execution_count": 7,
   "id": "d4c26a26",
   "metadata": {},
   "outputs": [],
   "source": [
    "# sum over all years to get decade total\n",
    "decade_summary = usage_df.sum()\n",
    "\n",
    "# extract data from series\n",
    "sectors = list(decade_summary.index)\n",
    "consumption = np.array(decade_summary)\n",
    "\n",
    "# sort ascending by kWh, save order\n",
    "sorted_indices = np.argsort(consumption)\n",
    "consumption.sort()\n",
    "sectors = [sectors[i] for i in sorted_indices]"
   ]
  },
  {
   "cell_type": "markdown",
   "id": "9e6a49b8",
   "metadata": {},
   "source": [
    "### Analysis and Visualization"
   ]
  },
  {
   "cell_type": "code",
   "execution_count": 8,
   "id": "64ac999a",
   "metadata": {},
   "outputs": [
    {
     "data": {
      "text/plain": [
       "Text(0.5, 1.0, '2008-2018 Energy Consumption')"
      ]
     },
     "execution_count": 8,
     "metadata": {},
     "output_type": "execute_result"
    },
    {
     "data": {
      "image/png": "[encoded data removed]",
      "text/plain": [
       "<Figure size 500x300 with 1 Axes>"
      ]
     },
     "metadata": {
      "needs_background": "light"
     },
     "output_type": "display_data"
    }
   ],
   "source": [
    "# make plot for energy usage\n",
    "plt.rcParams['figure.figsize'] = [5, 3]\n",
    "plt.rcParams['figure.dpi'] = 100\n",
    "plt.bar(np.arange(len(consumption)), consumption)\n",
    "plt.xticks(ticks = range(0, len(consumption)), labels=sectors, rotation='vertical')\n",
    "plt.xlabel('Sector')\n",
    "plt.ylabel('Energy Usage (kWh, millions)')\n",
    "plt.title('2008-2018 Energy Consumption')"
   ]
  },
  {
   "cell_type": "code",
   "execution_count": 9,
   "id": "7dd96219",
   "metadata": {},
   "outputs": [
    {
     "data": {
      "text/plain": [
       "Text(0.5, 1.0, '2008 - 2018 Percent Energy Consumption by Sector')"
      ]
     },
     "execution_count": 9,
     "metadata": {},
     "output_type": "execute_result"
    },
    {
     "data": {
      "image/png": "[encoded data removed]",
      "text/plain": [
       "<Figure size 500x300 with 1 Axes>"
      ]
     },
     "metadata": {},
     "output_type": "display_data"
    }
   ],
   "source": [
    "# pie charts are useful for visualizations\n",
    "percent_consumption = 100 * consumption / sum(consumption)\n",
    "name_percents = [name + ': ' + str(round(percent_consumption[idx], 2)) + '%' for idx, name in enumerate(sectors)]\n",
    "plt.pie(consumption, labels = name_percents)\n",
    "plt.title('2008 - 2018 Percent Energy Consumption by Sector')"
   ]
  },
  {
   "cell_type": "markdown",
   "id": "d09d3dbf",
   "metadata": {},
   "source": [
    "### Discussion"
   ]
  },
  {
   "cell_type": "markdown",
   "id": "b0eecf7f",
   "metadata": {},
   "source": [
    "As we can see from the above visualizations, the **industry** sector consumed more than all of the remaining sectors combined. Given the sheer size of the **industry** sector's energy consumption, a small optimization will accumulate big savings in operating costs as well as in green house gas emissions. \n",
    "\n",
    "The sector with the second largest energy consumption is the **households** sector. Again, a small optimization will accumulate big savings. \n",
    "\n",
    "In conclusion, over 80% of the energy consumption between 2008-2018 was in the **industry** and **households** sectors. Designing a product that can help reduce consumption in either sector will likely be a huge success."
   ]
  },
  {
   "cell_type": "code",
   "execution_count": null,
   "id": "f15f9084",
   "metadata": {},
   "outputs": [],
   "source": []
  }
 ],
 "metadata": {
  "kernelspec": {
   "display_name": "Python 3",
   "language": "python",
   "name": "python3"
  },
  "language_info": {
   "codemirror_mode": {
    "name": "ipython",
    "version": 3
   },
   "file_extension": ".py",
   "mimetype": "text/x-python",
   "name": "python",
   "nbconvert_exporter": "python",
   "pygments_lexer": "ipython3",
   "version": "3.8.5"
  }
 },
 "nbformat": 4,
 "nbformat_minor": 5
}
